{
  "nbformat": 4,
  "nbformat_minor": 0,
  "metadata": {
    "colab": {
      "name": "Untitled1.ipynb",
      "provenance": [],
      "collapsed_sections": []
    },
    "kernelspec": {
      "name": "python3",
      "display_name": "Python 3"
    },
    "language_info": {
      "name": "python"
    }
  },
  "cells": [
    {
      "cell_type": "markdown",
      "metadata": {
        "id": "ExxEcLAxvcYP"
      },
      "source": [
        "**A very trivial Neural network** : the goal is to predict a target value of 1 or 0 depending on three binary inputs. This target value takes 1 whenever the first input is 1 and 0 otherwise"
      ]
    },
    {
      "cell_type": "code",
      "metadata": {
        "id": "LlP7w6j1vdSa"
      },
      "source": [
        "import numpy as np\n",
        "from matplotlib import pyplot as plt"
      ],
      "execution_count": null,
      "outputs": []
    },
    {
      "cell_type": "code",
      "metadata": {
        "id": "nkgii4t8rM-J"
      },
      "source": [
        "def sigmoid(x):\n",
        "  return 1/(1+np.exp(-x))"
      ],
      "execution_count": 8,
      "outputs": []
    },
    {
      "cell_type": "code",
      "metadata": {
        "colab": {
          "base_uri": "https://localhost:8080/",
          "height": 272
        },
        "id": "FPBUro0SrYaT",
        "outputId": "47ac8d65-8b72-4882-8206-7b2a7127574c"
      },
      "source": [
        "x = np.linspace(-50,50,100)\n",
        "y = sigmoid(x)\n",
        "# setting the axes at the centre\n",
        "fig = plt.figure()\n",
        "ax = fig.add_subplot(1, 1, 1)\n",
        "ax.spines['left'].set_position('center')\n",
        "ax.spines['bottom'].set_position('zero')\n",
        "ax.spines['right'].set_color('none')\n",
        "ax.spines['top'].set_color('none')\n",
        "ax.xaxis.set_ticks_position('bottom')\n",
        "ax.yaxis.set_ticks_position('right')\n",
        "\n",
        "# plot the function\n",
        "plt.plot(x,y, 'r')"
      ],
      "execution_count": 9,
      "outputs": [
        {
          "output_type": "execute_result",
          "data": {
            "text/plain": [
              "[<matplotlib.lines.Line2D at 0x7fd57c2e6590>]"
            ]
          },
          "metadata": {
            "tags": []
          },
          "execution_count": 9
        },
        {
          "output_type": "display_data",
          "data": {
            "image/png": "[encoded data removed]",
            "text/plain": [
              "<Figure size 432x288 with 1 Axes>"
            ]
          },
          "metadata": {
            "tags": [],
            "needs_background": "light"
          }
        }
      ]
    },
    {
      "cell_type": "code",
      "metadata": {
        "id": "MEwFMJQptx7N"
      },
      "source": [
        "def sigmoid_derivative(x):\n",
        "  return sigmoid(x)*(1-sigmoid(x))"
      ],
      "execution_count": 45,
      "outputs": []
    },
    {
      "cell_type": "code",
      "metadata": {
        "colab": {
          "base_uri": "https://localhost:8080/",
          "height": 278
        },
        "id": "PVdhVUthuEhG",
        "outputId": "a4cf5508-5a90-4e08-a204-65ea7347a4aa"
      },
      "source": [
        "x = np.linspace(-5,5,100)\n",
        "y = sigmoid_derivative(x)\n",
        "# setting the axes at the centre\n",
        "fig = plt.figure()\n",
        "ax = fig.add_subplot(1, 1, 1)\n",
        "ax.spines['left'].set_position('center')\n",
        "ax.spines['bottom'].set_position('zero')\n",
        "ax.spines['right'].set_color('none')\n",
        "ax.spines['top'].set_color('none')\n",
        "ax.xaxis.set_ticks_position('bottom')\n",
        "ax.yaxis.set_ticks_position('left')\n",
        "\n",
        "# plot the function\n",
        "plt.plot(x,y, 'r')"
      ],
      "execution_count": 46,
      "outputs": [
        {
          "output_type": "execute_result",
          "data": {
            "text/plain": [
              "[<matplotlib.lines.Line2D at 0x7fd57bf08d10>]"
            ]
          },
          "metadata": {
            "tags": []
          },
          "execution_count": 46
        },
        {
          "output_type": "display_data",
          "data": {
            "image/png": "[encoded data removed]",
            "text/plain": [
              "<Figure size 432x288 with 1 Axes>"
            ]
          },
          "metadata": {
            "tags": [],
            "needs_background": "light"
          }
        }
      ]
    },
    {
      "cell_type": "markdown",
      "metadata": {
        "id": "WtXccHhvwFqt"
      },
      "source": [
        "lets initialize our dataset"
      ]
    },
    {
      "cell_type": "code",
      "metadata": {
        "colab": {
          "base_uri": "https://localhost:8080/"
        },
        "id": "hG-FGwTEs9l8",
        "outputId": "e81afd76-fd12-4499-86b4-3c62d16fd0e6"
      },
      "source": [
        "training_input = np.array([[0,0,1],[1,1,1],[1,0,1],[0,1,1]])\n",
        "training_input"
      ],
      "execution_count": 33,
      "outputs": [
        {
          "output_type": "execute_result",
          "data": {
            "text/plain": [
              "array([[0, 0, 1],\n",
              "       [1, 1, 1],\n",
              "       [1, 0, 1],\n",
              "       [0, 1, 1]])"
            ]
          },
          "metadata": {
            "tags": []
          },
          "execution_count": 33
        }
      ]
    },
    {
      "cell_type": "code",
      "metadata": {
        "colab": {
          "base_uri": "https://localhost:8080/"
        },
        "id": "Apod6dKmrxey",
        "outputId": "e61c2a5f-acfe-4754-b124-6c07802f8e6a"
      },
      "source": [
        "training_output = np.array([[0,1,1,0]]).T\n",
        "training_output"
      ],
      "execution_count": 48,
      "outputs": [
        {
          "output_type": "execute_result",
          "data": {
            "text/plain": [
              "array([[0],\n",
              "       [1],\n",
              "       [1],\n",
              "       [0]])"
            ]
          },
          "metadata": {
            "tags": []
          },
          "execution_count": 48
        }
      ]
    },
    {
      "cell_type": "code",
      "metadata": {
        "colab": {
          "base_uri": "https://localhost:8080/",
          "height": 173
        },
        "id": "Stu2X2iZwOUK",
        "outputId": "ca86c2a1-23e8-486d-934c-dbd64ff9b104"
      },
      "source": [
        "import pandas as pd\n",
        "df1 = pd.DataFrame(training_input)\n",
        "df1 = df1.rename(columns={0: \"input1\", 1: \"input2\",2: \"input3\"})\n",
        "df2 = pd.DataFrame(training_output)\n",
        "df2 = df2.rename(columns={0: \"target\"})\n",
        "data = pd.concat([df1,df2],axis=1)\n",
        "data\n"
      ],
      "execution_count": 84,
      "outputs": [
        {
          "output_type": "execute_result",
          "data": {
            "text/html": [
              "<div>\n",
              "<style scoped>\n",
              "    .dataframe tbody tr th:only-of-type {\n",
              "        vertical-align: middle;\n",
              "    }\n",
              "\n",
              "    .dataframe tbody tr th {\n",
              "        vertical-align: top;\n",
              "    }\n",
              "\n",
              "    .dataframe thead th {\n",
              "        text-align: right;\n",
              "    }\n",
              "</style>\n",
              "<table border=\"1\" class=\"dataframe\">\n",
              "  <thead>\n",
              "    <tr style=\"text-align: right;\">\n",
              "      <th></th>\n",
              "      <th>input1</th>\n",
              "      <th>input2</th>\n",
              "      <th>input3</th>\n",
              "      <th>target</th>\n",
              "    </tr>\n",
              "  </thead>\n",
              "  <tbody>\n",
              "    <tr>\n",
              "      <th>0</th>\n",
              "      <td>0</td>\n",
              "      <td>0</td>\n",
              "      <td>1</td>\n",
              "      <td>0</td>\n",
              "    </tr>\n",
              "    <tr>\n",
              "      <th>1</th>\n",
              "      <td>1</td>\n",
              "      <td>1</td>\n",
              "      <td>1</td>\n",
              "      <td>1</td>\n",
              "    </tr>\n",
              "    <tr>\n",
              "      <th>2</th>\n",
              "      <td>1</td>\n",
              "      <td>0</td>\n",
              "      <td>1</td>\n",
              "      <td>1</td>\n",
              "    </tr>\n",
              "    <tr>\n",
              "      <th>3</th>\n",
              "      <td>0</td>\n",
              "      <td>1</td>\n",
              "      <td>1</td>\n",
              "      <td>0</td>\n",
              "    </tr>\n",
              "  </tbody>\n",
              "</table>\n",
              "</div>"
            ],
            "text/plain": [
              "   input1  input2  input3  target\n",
              "0       0       0       1       0\n",
              "1       1       1       1       1\n",
              "2       1       0       1       1\n",
              "3       0       1       1       0"
            ]
          },
          "metadata": {
            "tags": []
          },
          "execution_count": 84
        }
      ]
    },
    {
      "cell_type": "code",
      "metadata": {
        "id": "ZkhhdUMvr6ar"
      },
      "source": [
        "np.random.seed(1)"
      ],
      "execution_count": 11,
      "outputs": []
    },
    {
      "cell_type": "markdown",
      "metadata": {
        "id": "Yr4yl_8y44rW"
      },
      "source": [
        "initialize weights"
      ]
    },
    {
      "cell_type": "code",
      "metadata": {
        "colab": {
          "base_uri": "https://localhost:8080/"
        },
        "id": "Xlv3tFP0r9Bl",
        "outputId": "7eddcaee-f8b5-4599-c8bb-eda55bf3963b"
      },
      "source": [
        "weights = 2*np.random.random((3,1))-1\n",
        "weights"
      ],
      "execution_count": 30,
      "outputs": [
        {
          "output_type": "execute_result",
          "data": {
            "text/plain": [
              "array([[ 0.15677923],\n",
              "       [-0.18372639],\n",
              "       [-0.52594604]])"
            ]
          },
          "metadata": {
            "tags": []
          },
          "execution_count": 30
        }
      ]
    },
    {
      "cell_type": "markdown",
      "metadata": {
        "id": "loE28EP847qm"
      },
      "source": [
        "Output with initial weigths"
      ]
    },
    {
      "cell_type": "code",
      "metadata": {
        "colab": {
          "base_uri": "https://localhost:8080/"
        },
        "id": "kuf_7g8nsKYo",
        "outputId": "82baef1c-7f3a-4818-8220-da20f59ade3a"
      },
      "source": [
        "sigmoid(np.dot(training_input,weights))"
      ],
      "execution_count": 34,
      "outputs": [
        {
          "output_type": "execute_result",
          "data": {
            "text/plain": [
              "array([[0.37146291],\n",
              "       [0.36519342],\n",
              "       [0.40874236],\n",
              "       [0.32967122]])"
            ]
          },
          "metadata": {
            "tags": []
          },
          "execution_count": 34
        }
      ]
    },
    {
      "cell_type": "markdown",
      "metadata": {
        "id": "zBPUe5Qy5Ax3"
      },
      "source": [
        "Backpropagation TT"
      ]
    },
    {
      "cell_type": "code",
      "metadata": {
        "id": "Af6YE95ytI-S"
      },
      "source": [
        "alpha = 0.1\n",
        "for iteration in range(50000):\n",
        "  input_layer = training_input\n",
        "  output = sigmoid(np.dot(input_layer,weights))\n",
        "  error = output - training_output\n",
        "  weights = weights - alpha* np.dot(input_layer.T,error*sigmoid_derivative(output))"
      ],
      "execution_count": 54,
      "outputs": []
    },
    {
      "cell_type": "code",
      "metadata": {
        "colab": {
          "base_uri": "https://localhost:8080/"
        },
        "id": "6aNdcAm9vLVP",
        "outputId": "7367bcac-5e95-4f2e-d51e-3076ac63300e"
      },
      "source": [
        "sigmoid(np.dot(training_input,weights))"
      ],
      "execution_count": 55,
      "outputs": [
        {
          "output_type": "execute_result",
          "data": {
            "text/plain": [
              "array([[1.03255283e-03],\n",
              "       [9.99125302e-01],\n",
              "       [9.99417697e-01],\n",
              "       [6.87426091e-04]])"
            ]
          },
          "metadata": {
            "tags": []
          },
          "execution_count": 55
        }
      ]
    },
    {
      "cell_type": "code",
      "metadata": {
        "colab": {
          "base_uri": "https://localhost:8080/"
        },
        "id": "UtVL6Lhfvx1B",
        "outputId": "f071dfe4-2d7f-4acc-c7aa-c9f12a1c7e61"
      },
      "source": [
        "sigmoid(np.dot(np.array([1,0,0]),weights))"
      ],
      "execution_count": 56,
      "outputs": [
        {
          "output_type": "execute_result",
          "data": {
            "text/plain": [
              "array([0.9999994])"
            ]
          },
          "metadata": {
            "tags": []
          },
          "execution_count": 56
        }
      ]
    }
  ]
}